{
 "cells": [
  {
   "cell_type": "code",
   "execution_count": 1,
   "id": "2b5f8223",
   "metadata": {
    "_cell_guid": "b1076dfc-b9ad-4769-8c92-a6c4dae69d19",
    "_uuid": "8f2839f25d086af736a60e9eeb907d3b93b6e0e5",
    "execution": {
     "iopub.execute_input": "2023-08-11T12:56:04.426416Z",
     "iopub.status.busy": "2023-08-11T12:56:04.425945Z",
     "iopub.status.idle": "2023-08-11T12:56:04.448376Z",
     "shell.execute_reply": "2023-08-11T12:56:04.447387Z"
    },
    "papermill": {
     "duration": 0.034183,
     "end_time": "2023-08-11T12:56:04.451275",
     "exception": false,
     "start_time": "2023-08-11T12:56:04.417092",
     "status": "completed"
    },
    "tags": []
   },
   "outputs": [
    {
     "name": "stdout",
     "output_type": "stream",
     "text": [
      "/kaggle/input/digit-recognizer/sample_submission.csv\n",
      "/kaggle/input/digit-recognizer/train.csv\n",
      "/kaggle/input/digit-recognizer/test.csv\n"
     ]
    }
   ],
   "source": [
    "# This Python 3 environment comes with many helpful analytics libraries installed\n",
    "# It is defined by the kaggle/python Docker image: https://github.com/kaggle/docker-python\n",
    "# For example, here's several helpful packages to load\n",
    "\n",
    "import numpy as np # linear algebra\n",
    "import pandas as pd # data processing, CSV file I/O (e.g. pd.read_csv)\n",
    "\n",
    "# Input data files are available in the read-only \"../input/\" directory\n",
    "# For example, running this (by clicking run or pressing Shift+Enter) will list all files under the input directory\n",
    "\n",
    "import os\n",
    "for dirname, _, filenames in os.walk('/kaggle/input'):\n",
    "    for filename in filenames:\n",
    "        print(os.path.join(dirname, filename))\n",
    "\n",
    "# You can write up to 20GB to the current directory (/kaggle/working/) that gets preserved as output when you create a version using \"Save & Run All\" \n",
    "# You can also write temporary files to /kaggle/temp/, but they won't be saved outside of the current session"
   ]
  },
  {
   "cell_type": "markdown",
   "id": "7cbc51a8",
   "metadata": {
    "papermill": {
     "duration": 0.006811,
     "end_time": "2023-08-11T12:56:04.465258",
     "exception": false,
     "start_time": "2023-08-11T12:56:04.458447",
     "status": "completed"
    },
    "tags": []
   },
   "source": [
    "# Let's start to see what the data lools like"
   ]
  },
  {
   "cell_type": "code",
   "execution_count": 2,
   "id": "99034bde",
   "metadata": {
    "execution": {
     "iopub.execute_input": "2023-08-11T12:56:04.481370Z",
     "iopub.status.busy": "2023-08-11T12:56:04.480678Z",
     "iopub.status.idle": "2023-08-11T12:56:07.919090Z",
     "shell.execute_reply": "2023-08-11T12:56:07.918161Z"
    },
    "papermill": {
     "duration": 3.449262,
     "end_time": "2023-08-11T12:56:07.921376",
     "exception": false,
     "start_time": "2023-08-11T12:56:04.472114",
     "status": "completed"
    },
    "tags": []
   },
   "outputs": [
    {
     "data": {
      "text/html": [
       "<div>\n",
       "<style scoped>\n",
       "    .dataframe tbody tr th:only-of-type {\n",
       "        vertical-align: middle;\n",
       "    }\n",
       "\n",
       "    .dataframe tbody tr th {\n",
       "        vertical-align: top;\n",
       "    }\n",
       "\n",
       "    .dataframe thead th {\n",
       "        text-align: right;\n",
       "    }\n",
       "</style>\n",
       "<table border=\"1\" class=\"dataframe\">\n",
       "  <thead>\n",
       "    <tr style=\"text-align: right;\">\n",
       "      <th></th>\n",
       "      <th>label</th>\n",
       "      <th>pixel0</th>\n",
       "      <th>pixel1</th>\n",
       "      <th>pixel2</th>\n",
       "      <th>pixel3</th>\n",
       "      <th>pixel4</th>\n",
       "      <th>pixel5</th>\n",
       "      <th>pixel6</th>\n",
       "      <th>pixel7</th>\n",
       "      <th>pixel8</th>\n",
       "      <th>...</th>\n",
       "      <th>pixel774</th>\n",
       "      <th>pixel775</th>\n",
       "      <th>pixel776</th>\n",
       "      <th>pixel777</th>\n",
       "      <th>pixel778</th>\n",
       "      <th>pixel779</th>\n",
       "      <th>pixel780</th>\n",
       "      <th>pixel781</th>\n",
       "      <th>pixel782</th>\n",
       "      <th>pixel783</th>\n",
       "    </tr>\n",
       "  </thead>\n",
       "  <tbody>\n",
       "    <tr>\n",
       "      <th>0</th>\n",
       "      <td>1</td>\n",
       "      <td>0</td>\n",
       "      <td>0</td>\n",
       "      <td>0</td>\n",
       "      <td>0</td>\n",
       "      <td>0</td>\n",
       "      <td>0</td>\n",
       "      <td>0</td>\n",
       "      <td>0</td>\n",
       "      <td>0</td>\n",
       "      <td>...</td>\n",
       "      <td>0</td>\n",
       "      <td>0</td>\n",
       "      <td>0</td>\n",
       "      <td>0</td>\n",
       "      <td>0</td>\n",
       "      <td>0</td>\n",
       "      <td>0</td>\n",
       "      <td>0</td>\n",
       "      <td>0</td>\n",
       "      <td>0</td>\n",
       "    </tr>\n",
       "    <tr>\n",
       "      <th>1</th>\n",
       "      <td>0</td>\n",
       "      <td>0</td>\n",
       "      <td>0</td>\n",
       "      <td>0</td>\n",
       "      <td>0</td>\n",
       "      <td>0</td>\n",
       "      <td>0</td>\n",
       "      <td>0</td>\n",
       "      <td>0</td>\n",
       "      <td>0</td>\n",
       "      <td>...</td>\n",
       "      <td>0</td>\n",
       "      <td>0</td>\n",
       "      <td>0</td>\n",
       "      <td>0</td>\n",
       "      <td>0</td>\n",
       "      <td>0</td>\n",
       "      <td>0</td>\n",
       "      <td>0</td>\n",
       "      <td>0</td>\n",
       "      <td>0</td>\n",
       "    </tr>\n",
       "    <tr>\n",
       "      <th>2</th>\n",
       "      <td>1</td>\n",
       "      <td>0</td>\n",
       "      <td>0</td>\n",
       "      <td>0</td>\n",
       "      <td>0</td>\n",
       "      <td>0</td>\n",
       "      <td>0</td>\n",
       "      <td>0</td>\n",
       "      <td>0</td>\n",
       "      <td>0</td>\n",
       "      <td>...</td>\n",
       "      <td>0</td>\n",
       "      <td>0</td>\n",
       "      <td>0</td>\n",
       "      <td>0</td>\n",
       "      <td>0</td>\n",
       "      <td>0</td>\n",
       "      <td>0</td>\n",
       "      <td>0</td>\n",
       "      <td>0</td>\n",
       "      <td>0</td>\n",
       "    </tr>\n",
       "    <tr>\n",
       "      <th>3</th>\n",
       "      <td>4</td>\n",
       "      <td>0</td>\n",
       "      <td>0</td>\n",
       "      <td>0</td>\n",
       "      <td>0</td>\n",
       "      <td>0</td>\n",
       "      <td>0</td>\n",
       "      <td>0</td>\n",
       "      <td>0</td>\n",
       "      <td>0</td>\n",
       "      <td>...</td>\n",
       "      <td>0</td>\n",
       "      <td>0</td>\n",
       "      <td>0</td>\n",
       "      <td>0</td>\n",
       "      <td>0</td>\n",
       "      <td>0</td>\n",
       "      <td>0</td>\n",
       "      <td>0</td>\n",
       "      <td>0</td>\n",
       "      <td>0</td>\n",
       "    </tr>\n",
       "    <tr>\n",
       "      <th>4</th>\n",
       "      <td>0</td>\n",
       "      <td>0</td>\n",
       "      <td>0</td>\n",
       "      <td>0</td>\n",
       "      <td>0</td>\n",
       "      <td>0</td>\n",
       "      <td>0</td>\n",
       "      <td>0</td>\n",
       "      <td>0</td>\n",
       "      <td>0</td>\n",
       "      <td>...</td>\n",
       "      <td>0</td>\n",
       "      <td>0</td>\n",
       "      <td>0</td>\n",
       "      <td>0</td>\n",
       "      <td>0</td>\n",
       "      <td>0</td>\n",
       "      <td>0</td>\n",
       "      <td>0</td>\n",
       "      <td>0</td>\n",
       "      <td>0</td>\n",
       "    </tr>\n",
       "  </tbody>\n",
       "</table>\n",
       "<p>5 rows × 785 columns</p>\n",
       "</div>"
      ],
      "text/plain": [
       "   label  pixel0  pixel1  pixel2  pixel3  pixel4  pixel5  pixel6  pixel7  \\\n",
       "0      1       0       0       0       0       0       0       0       0   \n",
       "1      0       0       0       0       0       0       0       0       0   \n",
       "2      1       0       0       0       0       0       0       0       0   \n",
       "3      4       0       0       0       0       0       0       0       0   \n",
       "4      0       0       0       0       0       0       0       0       0   \n",
       "\n",
       "   pixel8  ...  pixel774  pixel775  pixel776  pixel777  pixel778  pixel779  \\\n",
       "0       0  ...         0         0         0         0         0         0   \n",
       "1       0  ...         0         0         0         0         0         0   \n",
       "2       0  ...         0         0         0         0         0         0   \n",
       "3       0  ...         0         0         0         0         0         0   \n",
       "4       0  ...         0         0         0         0         0         0   \n",
       "\n",
       "   pixel780  pixel781  pixel782  pixel783  \n",
       "0         0         0         0         0  \n",
       "1         0         0         0         0  \n",
       "2         0         0         0         0  \n",
       "3         0         0         0         0  \n",
       "4         0         0         0         0  \n",
       "\n",
       "[5 rows x 785 columns]"
      ]
     },
     "execution_count": 2,
     "metadata": {},
     "output_type": "execute_result"
    }
   ],
   "source": [
    "train = pd.read_csv('/kaggle/input/digit-recognizer/train.csv')\n",
    "\n",
    "train.head()"
   ]
  },
  {
   "cell_type": "markdown",
   "id": "d9ee3cf7",
   "metadata": {
    "papermill": {
     "duration": 0.007791,
     "end_time": "2023-08-11T12:56:07.936775",
     "exception": false,
     "start_time": "2023-08-11T12:56:07.928984",
     "status": "completed"
    },
    "tags": []
   },
   "source": [
    "# I need to separate the label column"
   ]
  },
  {
   "cell_type": "code",
   "execution_count": 3,
   "id": "3b8e95aa",
   "metadata": {
    "execution": {
     "iopub.execute_input": "2023-08-11T12:56:07.953836Z",
     "iopub.status.busy": "2023-08-11T12:56:07.952320Z",
     "iopub.status.idle": "2023-08-11T12:56:08.126671Z",
     "shell.execute_reply": "2023-08-11T12:56:08.125573Z"
    },
    "papermill": {
     "duration": 0.185186,
     "end_time": "2023-08-11T12:56:08.129367",
     "exception": false,
     "start_time": "2023-08-11T12:56:07.944181",
     "status": "completed"
    },
    "tags": []
   },
   "outputs": [
    {
     "data": {
      "text/plain": [
       "(42000, 784)"
      ]
     },
     "execution_count": 3,
     "metadata": {},
     "output_type": "execute_result"
    }
   ],
   "source": [
    "y = train.pop('label')\n",
    "X = train.values\n",
    "\n",
    "X.shape"
   ]
  },
  {
   "cell_type": "markdown",
   "id": "65443778",
   "metadata": {
    "papermill": {
     "duration": 0.007548,
     "end_time": "2023-08-11T12:56:08.146642",
     "exception": false,
     "start_time": "2023-08-11T12:56:08.139094",
     "status": "completed"
    },
    "tags": []
   },
   "source": [
    "# In order to work with 2D CNN i need to reshape the data in order to have a matrix of 28x28x1 where the 1 stands for the pixel value in the scale of gray, instead the 28x28 for the size of if"
   ]
  },
  {
   "cell_type": "code",
   "execution_count": 4,
   "id": "b4566bff",
   "metadata": {
    "execution": {
     "iopub.execute_input": "2023-08-11T12:56:08.163063Z",
     "iopub.status.busy": "2023-08-11T12:56:08.162774Z",
     "iopub.status.idle": "2023-08-11T12:56:08.169313Z",
     "shell.execute_reply": "2023-08-11T12:56:08.168071Z"
    },
    "papermill": {
     "duration": 0.017557,
     "end_time": "2023-08-11T12:56:08.171943",
     "exception": false,
     "start_time": "2023-08-11T12:56:08.154386",
     "status": "completed"
    },
    "tags": []
   },
   "outputs": [
    {
     "data": {
      "text/plain": [
       "(42000, 28, 28, 1)"
      ]
     },
     "execution_count": 4,
     "metadata": {},
     "output_type": "execute_result"
    }
   ],
   "source": [
    "X = X.reshape(-1,28,28,1)\n",
    "X.shape"
   ]
  },
  {
   "cell_type": "markdown",
   "id": "264aee4c",
   "metadata": {
    "papermill": {
     "duration": 0.007626,
     "end_time": "2023-08-11T12:56:08.187465",
     "exception": false,
     "start_time": "2023-08-11T12:56:08.179839",
     "status": "completed"
    },
    "tags": []
   },
   "source": [
    "# In order to work faster with tensorflow i need to normalise the numbers so that they are smaller"
   ]
  },
  {
   "cell_type": "code",
   "execution_count": 5,
   "id": "191e18c4",
   "metadata": {
    "execution": {
     "iopub.execute_input": "2023-08-11T12:56:08.204525Z",
     "iopub.status.busy": "2023-08-11T12:56:08.203742Z",
     "iopub.status.idle": "2023-08-11T12:56:08.313495Z",
     "shell.execute_reply": "2023-08-11T12:56:08.312381Z"
    },
    "papermill": {
     "duration": 0.121157,
     "end_time": "2023-08-11T12:56:08.316424",
     "exception": false,
     "start_time": "2023-08-11T12:56:08.195267",
     "status": "completed"
    },
    "tags": []
   },
   "outputs": [],
   "source": [
    "X = X / 255.0"
   ]
  },
  {
   "cell_type": "markdown",
   "id": "56e418b6",
   "metadata": {
    "papermill": {
     "duration": 0.00751,
     "end_time": "2023-08-11T12:56:08.332488",
     "exception": false,
     "start_time": "2023-08-11T12:56:08.324978",
     "status": "completed"
    },
    "tags": []
   },
   "source": [
    "# Check how the image looks like"
   ]
  },
  {
   "cell_type": "code",
   "execution_count": 6,
   "id": "ce7bd6b2",
   "metadata": {
    "execution": {
     "iopub.execute_input": "2023-08-11T12:56:08.348941Z",
     "iopub.status.busy": "2023-08-11T12:56:08.348625Z",
     "iopub.status.idle": "2023-08-11T12:56:08.610966Z",
     "shell.execute_reply": "2023-08-11T12:56:08.610024Z"
    },
    "papermill": {
     "duration": 0.274136,
     "end_time": "2023-08-11T12:56:08.614151",
     "exception": false,
     "start_time": "2023-08-11T12:56:08.340015",
     "status": "completed"
    },
    "tags": []
   },
   "outputs": [
    {
     "data": {
      "image/png": "[encoded data removed]",
      "text/plain": [
       "<Figure size 640x480 with 1 Axes>"
      ]
     },
     "metadata": {},
     "output_type": "display_data"
    }
   ],
   "source": [
    "import matplotlib.pyplot as plt\n",
    "\n",
    "IMG_INDEX = 7  \n",
    "\n",
    "plt.imshow(X[IMG_INDEX] ,cmap=plt.cm.binary)\n",
    "plt.xlabel(y[IMG_INDEX])\n",
    "plt.show()"
   ]
  },
  {
   "cell_type": "markdown",
   "id": "16e65a5f",
   "metadata": {
    "papermill": {
     "duration": 0.007555,
     "end_time": "2023-08-11T12:56:08.630564",
     "exception": false,
     "start_time": "2023-08-11T12:56:08.623009",
     "status": "completed"
    },
    "tags": []
   },
   "source": [
    "# The image looks ok so we can split the dataset for the valuation"
   ]
  },
  {
   "cell_type": "code",
   "execution_count": 7,
   "id": "37e0ded1",
   "metadata": {
    "execution": {
     "iopub.execute_input": "2023-08-11T12:56:08.647704Z",
     "iopub.status.busy": "2023-08-11T12:56:08.647390Z",
     "iopub.status.idle": "2023-08-11T12:56:10.113726Z",
     "shell.execute_reply": "2023-08-11T12:56:10.112103Z"
    },
    "papermill": {
     "duration": 1.478011,
     "end_time": "2023-08-11T12:56:10.116496",
     "exception": false,
     "start_time": "2023-08-11T12:56:08.638485",
     "status": "completed"
    },
    "tags": []
   },
   "outputs": [
    {
     "name": "stderr",
     "output_type": "stream",
     "text": [
      "/opt/conda/lib/python3.10/site-packages/scipy/__init__.py:146: UserWarning: A NumPy version >=1.16.5 and <1.23.0 is required for this version of SciPy (detected version 1.23.5\n",
      "  warnings.warn(f\"A NumPy version >={np_minversion} and <{np_maxversion}\"\n"
     ]
    }
   ],
   "source": [
    "from sklearn.model_selection import train_test_split\n",
    "\n",
    "X_train, X_val, y_train, y_val = train_test_split(X, y, test_size=0.33, random_state=1)"
   ]
  },
  {
   "cell_type": "markdown",
   "id": "0369e4d7",
   "metadata": {
    "papermill": {
     "duration": 0.008818,
     "end_time": "2023-08-11T12:56:10.134283",
     "exception": false,
     "start_time": "2023-08-11T12:56:10.125465",
     "status": "completed"
    },
    "tags": []
   },
   "source": [
    "# Import TF and create a custom CNN with few layers"
   ]
  },
  {
   "cell_type": "code",
   "execution_count": 8,
   "id": "36fd3c79",
   "metadata": {
    "execution": {
     "iopub.execute_input": "2023-08-11T12:56:10.155336Z",
     "iopub.status.busy": "2023-08-11T12:56:10.155007Z",
     "iopub.status.idle": "2023-08-11T12:56:19.388555Z",
     "shell.execute_reply": "2023-08-11T12:56:19.387580Z"
    },
    "papermill": {
     "duration": 9.24844,
     "end_time": "2023-08-11T12:56:19.390952",
     "exception": false,
     "start_time": "2023-08-11T12:56:10.142512",
     "status": "completed"
    },
    "tags": []
   },
   "outputs": [
    {
     "name": "stderr",
     "output_type": "stream",
     "text": [
      "/opt/conda/lib/python3.10/site-packages/tensorflow_io/python/ops/__init__.py:98: UserWarning: unable to load libtensorflow_io_plugins.so: unable to open file: libtensorflow_io_plugins.so, from paths: ['/opt/conda/lib/python3.10/site-packages/tensorflow_io/python/ops/libtensorflow_io_plugins.so']\n",
      "caused by: ['/opt/conda/lib/python3.10/site-packages/tensorflow_io/python/ops/libtensorflow_io_plugins.so: undefined symbol: _ZN3tsl6StatusC1EN10tensorflow5error4CodeESt17basic_string_viewIcSt11char_traitsIcEENS_14SourceLocationE']\n",
      "  warnings.warn(f\"unable to load libtensorflow_io_plugins.so: {e}\")\n",
      "/opt/conda/lib/python3.10/site-packages/tensorflow_io/python/ops/__init__.py:104: UserWarning: file system plugins are not loaded: unable to open file: libtensorflow_io.so, from paths: ['/opt/conda/lib/python3.10/site-packages/tensorflow_io/python/ops/libtensorflow_io.so']\n",
      "caused by: ['/opt/conda/lib/python3.10/site-packages/tensorflow_io/python/ops/libtensorflow_io.so: undefined symbol: _ZTVN10tensorflow13GcsFileSystemE']\n",
      "  warnings.warn(f\"file system plugins are not loaded: {e}\")\n"
     ]
    }
   ],
   "source": [
    "import tensorflow as tf\n",
    "\n",
    "from tensorflow.keras import datasets, layers, models"
   ]
  },
  {
   "cell_type": "code",
   "execution_count": 9,
   "id": "a8cd4559",
   "metadata": {
    "execution": {
     "iopub.execute_input": "2023-08-11T12:56:19.409545Z",
     "iopub.status.busy": "2023-08-11T12:56:19.408339Z",
     "iopub.status.idle": "2023-08-11T12:56:24.070446Z",
     "shell.execute_reply": "2023-08-11T12:56:24.069465Z"
    },
    "papermill": {
     "duration": 4.673668,
     "end_time": "2023-08-11T12:56:24.073048",
     "exception": false,
     "start_time": "2023-08-11T12:56:19.399380",
     "status": "completed"
    },
    "tags": []
   },
   "outputs": [],
   "source": [
    "model = models.Sequential()\n",
    "model.add(layers.Conv2D(28, (3, 3), activation='relu', input_shape=(28, 28, 1)))\n",
    "model.add(layers.MaxPooling2D((2, 2)))\n",
    "model.add(layers.Dropout(0.25)) # important to not overfit and increase generalization\n",
    "model.add(layers.Conv2D(64, (3, 3), activation='relu'))\n",
    "model.add(layers.MaxPooling2D((2, 2)))\n",
    "model.add(layers.Dropout(0.25))\n",
    "model.add(layers.Conv2D(64, (3, 3), activation='relu'))\n",
    "model.add(layers.Flatten())\n",
    "model.add(layers.Dense(64, activation='relu'))\n",
    "model.add(layers.Dense(10, activation='softmax')) # we just have 10 digits"
   ]
  },
  {
   "cell_type": "code",
   "execution_count": 10,
   "id": "27fa7a91",
   "metadata": {
    "execution": {
     "iopub.execute_input": "2023-08-11T12:56:24.091318Z",
     "iopub.status.busy": "2023-08-11T12:56:24.091001Z",
     "iopub.status.idle": "2023-08-11T12:57:11.783150Z",
     "shell.execute_reply": "2023-08-11T12:57:11.782153Z"
    },
    "papermill": {
     "duration": 47.703344,
     "end_time": "2023-08-11T12:57:11.785185",
     "exception": false,
     "start_time": "2023-08-11T12:56:24.081841",
     "status": "completed"
    },
    "tags": []
   },
   "outputs": [
    {
     "name": "stdout",
     "output_type": "stream",
     "text": [
      "Epoch 1/7\n"
     ]
    },
    {
     "name": "stderr",
     "output_type": "stream",
     "text": [
      "/opt/conda/lib/python3.10/site-packages/keras/backend.py:5612: UserWarning: \"`sparse_categorical_crossentropy` received `from_logits=True`, but the `output` argument was produced by a Softmax activation and thus does not represent logits. Was this intended?\n",
      "  output, from_logits = _get_logits(\n",
      "2023-08-11 12:56:25.308799: E tensorflow/core/grappler/optimizers/meta_optimizer.cc:954] layout failed: INVALID_ARGUMENT: Size of values 0 does not match size of permutation 4 @ fanin shape insequential/dropout/dropout/SelectV2-2-TransposeNHWCToNCHW-LayoutOptimizer\n"
     ]
    },
    {
     "name": "stdout",
     "output_type": "stream",
     "text": [
      "880/880 [==============================] - 16s 6ms/step - loss: 0.3127 - accuracy: 0.9005 - val_loss: 0.0905 - val_accuracy: 0.9705\n",
      "Epoch 2/7\n",
      "880/880 [==============================] - 6s 7ms/step - loss: 0.0917 - accuracy: 0.9717 - val_loss: 0.0627 - val_accuracy: 0.9803\n",
      "Epoch 3/7\n",
      "880/880 [==============================] - 5s 6ms/step - loss: 0.0637 - accuracy: 0.9792 - val_loss: 0.0541 - val_accuracy: 0.9833\n",
      "Epoch 4/7\n",
      "880/880 [==============================] - 5s 5ms/step - loss: 0.0538 - accuracy: 0.9831 - val_loss: 0.0383 - val_accuracy: 0.9867\n",
      "Epoch 5/7\n",
      "880/880 [==============================] - 5s 6ms/step - loss: 0.0434 - accuracy: 0.9855 - val_loss: 0.0423 - val_accuracy: 0.9869\n",
      "Epoch 6/7\n",
      "880/880 [==============================] - 5s 6ms/step - loss: 0.0373 - accuracy: 0.9885 - val_loss: 0.0377 - val_accuracy: 0.9883\n",
      "Epoch 7/7\n",
      "880/880 [==============================] - 5s 6ms/step - loss: 0.0321 - accuracy: 0.9891 - val_loss: 0.0480 - val_accuracy: 0.9841\n"
     ]
    },
    {
     "data": {
      "text/plain": [
       "<keras.callbacks.History at 0x7d2ca42aaef0>"
      ]
     },
     "execution_count": 10,
     "metadata": {},
     "output_type": "execute_result"
    }
   ],
   "source": [
    "model.compile(optimizer='adam',\n",
    "              loss=tf.keras.losses.SparseCategoricalCrossentropy(from_logits=True),\n",
    "              metrics=['accuracy'])\n",
    "\n",
    "model.fit(X_train, y_train, epochs=7,\n",
    "                    validation_data=(X_val, y_val))"
   ]
  },
  {
   "cell_type": "markdown",
   "id": "5e37db92",
   "metadata": {
    "papermill": {
     "duration": 0.051326,
     "end_time": "2023-08-11T12:57:11.891665",
     "exception": false,
     "start_time": "2023-08-11T12:57:11.840339",
     "status": "completed"
    },
    "tags": []
   },
   "source": [
    "# The train and val accuracy looks fine with no overfit, so we can proceed to predict the result for the test dataset"
   ]
  },
  {
   "cell_type": "markdown",
   "id": "68b2757c",
   "metadata": {
    "papermill": {
     "duration": 0.049595,
     "end_time": "2023-08-11T12:57:11.991804",
     "exception": false,
     "start_time": "2023-08-11T12:57:11.942209",
     "status": "completed"
    },
    "tags": []
   },
   "source": [
    "# Import the test dataset and apply the same processing we did with the train dataset, since they should have the same structure and normalization"
   ]
  },
  {
   "cell_type": "code",
   "execution_count": 11,
   "id": "e950f9ed",
   "metadata": {
    "execution": {
     "iopub.execute_input": "2023-08-11T12:57:12.092266Z",
     "iopub.status.busy": "2023-08-11T12:57:12.091890Z",
     "iopub.status.idle": "2023-08-11T12:57:14.424113Z",
     "shell.execute_reply": "2023-08-11T12:57:14.423024Z"
    },
    "papermill": {
     "duration": 2.386104,
     "end_time": "2023-08-11T12:57:14.427063",
     "exception": false,
     "start_time": "2023-08-11T12:57:12.040959",
     "status": "completed"
    },
    "tags": []
   },
   "outputs": [],
   "source": [
    "test = pd.read_csv('/kaggle/input/digit-recognizer/test.csv')\n",
    "test = test.values\n",
    "X_test = test.reshape(-1,28,28,1)\n",
    "\n",
    "# Normalize pixel values to be between 0 and 1\n",
    "X_test = X_test / 255.0"
   ]
  },
  {
   "cell_type": "markdown",
   "id": "2928dd9a",
   "metadata": {
    "papermill": {
     "duration": 0.051977,
     "end_time": "2023-08-11T12:57:14.538673",
     "exception": false,
     "start_time": "2023-08-11T12:57:14.486696",
     "status": "completed"
    },
    "tags": []
   },
   "source": [
    "# We can predict now the results"
   ]
  },
  {
   "cell_type": "code",
   "execution_count": 12,
   "id": "2b151de4",
   "metadata": {
    "execution": {
     "iopub.execute_input": "2023-08-11T12:57:14.642535Z",
     "iopub.status.busy": "2023-08-11T12:57:14.642163Z",
     "iopub.status.idle": "2023-08-11T12:57:20.112907Z",
     "shell.execute_reply": "2023-08-11T12:57:20.111529Z"
    },
    "papermill": {
     "duration": 5.525652,
     "end_time": "2023-08-11T12:57:20.116003",
     "exception": false,
     "start_time": "2023-08-11T12:57:14.590351",
     "status": "completed"
    },
    "tags": []
   },
   "outputs": [
    {
     "name": "stdout",
     "output_type": "stream",
     "text": [
      "875/875 [==============================] - 2s 2ms/step\n"
     ]
    },
    {
     "data": {
      "text/plain": [
       "array([[1.51568660e-10, 1.12842869e-07, 9.99999166e-01, ...,\n",
       "        1.63654743e-08, 4.31162789e-07, 4.03589162e-10],\n",
       "       [9.99882579e-01, 1.48102956e-07, 5.65426490e-06, ...,\n",
       "        1.66962666e-09, 2.19449998e-06, 1.39865881e-06],\n",
       "       [1.34275853e-08, 5.62730362e-10, 2.85426978e-07, ...,\n",
       "        2.08481978e-07, 6.98370059e-05, 9.99915123e-01],\n",
       "       ...,\n",
       "       [1.36567639e-14, 9.80698921e-13, 2.54052985e-12, ...,\n",
       "        9.46913450e-11, 3.32116487e-11, 5.65863967e-10],\n",
       "       [1.71868783e-10, 5.87573479e-12, 6.87406299e-10, ...,\n",
       "        4.38060717e-08, 8.66883028e-08, 9.99997497e-01],\n",
       "       [1.58898953e-11, 1.38283545e-08, 9.99999642e-01, ...,\n",
       "        2.22833152e-09, 3.33707987e-07, 7.05365766e-11]], dtype=float32)"
      ]
     },
     "execution_count": 12,
     "metadata": {},
     "output_type": "execute_result"
    }
   ],
   "source": [
    "pred = model.predict(X_test)\n",
    "pred"
   ]
  },
  {
   "cell_type": "markdown",
   "id": "b30ae00f",
   "metadata": {
    "papermill": {
     "duration": 0.052576,
     "end_time": "2023-08-11T12:57:20.226647",
     "exception": false,
     "start_time": "2023-08-11T12:57:20.174071",
     "status": "completed"
    },
    "tags": []
   },
   "source": [
    "# We need to extract the correct value from the softmax output"
   ]
  },
  {
   "cell_type": "code",
   "execution_count": 13,
   "id": "829dab8d",
   "metadata": {
    "execution": {
     "iopub.execute_input": "2023-08-11T12:57:20.376508Z",
     "iopub.status.busy": "2023-08-11T12:57:20.376100Z",
     "iopub.status.idle": "2023-08-11T12:57:20.384833Z",
     "shell.execute_reply": "2023-08-11T12:57:20.383680Z"
    },
    "papermill": {
     "duration": 0.085801,
     "end_time": "2023-08-11T12:57:20.387260",
     "exception": false,
     "start_time": "2023-08-11T12:57:20.301459",
     "status": "completed"
    },
    "tags": []
   },
   "outputs": [
    {
     "data": {
      "text/plain": [
       "array([2, 0, 9, ..., 3, 9, 2])"
      ]
     },
     "execution_count": 13,
     "metadata": {},
     "output_type": "execute_result"
    }
   ],
   "source": [
    "pred = np.argmax(pred, axis=1)\n",
    "pred"
   ]
  },
  {
   "cell_type": "markdown",
   "id": "f67a7218",
   "metadata": {
    "papermill": {
     "duration": 0.053811,
     "end_time": "2023-08-11T12:57:20.498167",
     "exception": false,
     "start_time": "2023-08-11T12:57:20.444356",
     "status": "completed"
    },
    "tags": []
   },
   "source": [
    "# And now we can proceed with the submission process"
   ]
  },
  {
   "cell_type": "code",
   "execution_count": 14,
   "id": "4164b20c",
   "metadata": {
    "execution": {
     "iopub.execute_input": "2023-08-11T12:57:20.604614Z",
     "iopub.status.busy": "2023-08-11T12:57:20.604304Z",
     "iopub.status.idle": "2023-08-11T12:57:20.622330Z",
     "shell.execute_reply": "2023-08-11T12:57:20.621444Z"
    },
    "papermill": {
     "duration": 0.073495,
     "end_time": "2023-08-11T12:57:20.624291",
     "exception": false,
     "start_time": "2023-08-11T12:57:20.550796",
     "status": "completed"
    },
    "tags": []
   },
   "outputs": [],
   "source": [
    "sub = pd.read_csv('/kaggle/input/digit-recognizer/sample_submission.csv')"
   ]
  },
  {
   "cell_type": "code",
   "execution_count": 15,
   "id": "919393e6",
   "metadata": {
    "execution": {
     "iopub.execute_input": "2023-08-11T12:57:20.732246Z",
     "iopub.status.busy": "2023-08-11T12:57:20.731901Z",
     "iopub.status.idle": "2023-08-11T12:57:20.741092Z",
     "shell.execute_reply": "2023-08-11T12:57:20.740081Z"
    },
    "papermill": {
     "duration": 0.066142,
     "end_time": "2023-08-11T12:57:20.743465",
     "exception": false,
     "start_time": "2023-08-11T12:57:20.677323",
     "status": "completed"
    },
    "tags": []
   },
   "outputs": [
    {
     "data": {
      "text/html": [
       "<div>\n",
       "<style scoped>\n",
       "    .dataframe tbody tr th:only-of-type {\n",
       "        vertical-align: middle;\n",
       "    }\n",
       "\n",
       "    .dataframe tbody tr th {\n",
       "        vertical-align: top;\n",
       "    }\n",
       "\n",
       "    .dataframe thead th {\n",
       "        text-align: right;\n",
       "    }\n",
       "</style>\n",
       "<table border=\"1\" class=\"dataframe\">\n",
       "  <thead>\n",
       "    <tr style=\"text-align: right;\">\n",
       "      <th></th>\n",
       "      <th>ImageId</th>\n",
       "      <th>Label</th>\n",
       "    </tr>\n",
       "  </thead>\n",
       "  <tbody>\n",
       "    <tr>\n",
       "      <th>0</th>\n",
       "      <td>1</td>\n",
       "      <td>0</td>\n",
       "    </tr>\n",
       "    <tr>\n",
       "      <th>1</th>\n",
       "      <td>2</td>\n",
       "      <td>0</td>\n",
       "    </tr>\n",
       "    <tr>\n",
       "      <th>2</th>\n",
       "      <td>3</td>\n",
       "      <td>0</td>\n",
       "    </tr>\n",
       "    <tr>\n",
       "      <th>3</th>\n",
       "      <td>4</td>\n",
       "      <td>0</td>\n",
       "    </tr>\n",
       "    <tr>\n",
       "      <th>4</th>\n",
       "      <td>5</td>\n",
       "      <td>0</td>\n",
       "    </tr>\n",
       "  </tbody>\n",
       "</table>\n",
       "</div>"
      ],
      "text/plain": [
       "   ImageId  Label\n",
       "0        1      0\n",
       "1        2      0\n",
       "2        3      0\n",
       "3        4      0\n",
       "4        5      0"
      ]
     },
     "execution_count": 15,
     "metadata": {},
     "output_type": "execute_result"
    }
   ],
   "source": [
    "sub.head()"
   ]
  },
  {
   "cell_type": "code",
   "execution_count": 16,
   "id": "f97d9311",
   "metadata": {
    "execution": {
     "iopub.execute_input": "2023-08-11T12:57:20.853141Z",
     "iopub.status.busy": "2023-08-11T12:57:20.852813Z",
     "iopub.status.idle": "2023-08-11T12:57:20.858106Z",
     "shell.execute_reply": "2023-08-11T12:57:20.857184Z"
    },
    "papermill": {
     "duration": 0.061445,
     "end_time": "2023-08-11T12:57:20.860250",
     "exception": false,
     "start_time": "2023-08-11T12:57:20.798805",
     "status": "completed"
    },
    "tags": []
   },
   "outputs": [],
   "source": [
    "sub['Label'] = pred"
   ]
  },
  {
   "cell_type": "code",
   "execution_count": 17,
   "id": "30a1cfcd",
   "metadata": {
    "execution": {
     "iopub.execute_input": "2023-08-11T12:57:20.968949Z",
     "iopub.status.busy": "2023-08-11T12:57:20.968098Z",
     "iopub.status.idle": "2023-08-11T12:57:21.033502Z",
     "shell.execute_reply": "2023-08-11T12:57:21.032527Z"
    },
    "papermill": {
     "duration": 0.121891,
     "end_time": "2023-08-11T12:57:21.035810",
     "exception": false,
     "start_time": "2023-08-11T12:57:20.913919",
     "status": "completed"
    },
    "tags": []
   },
   "outputs": [
    {
     "data": {
      "text/html": [
       "<div>\n",
       "<style scoped>\n",
       "    .dataframe tbody tr th:only-of-type {\n",
       "        vertical-align: middle;\n",
       "    }\n",
       "\n",
       "    .dataframe tbody tr th {\n",
       "        vertical-align: top;\n",
       "    }\n",
       "\n",
       "    .dataframe thead th {\n",
       "        text-align: right;\n",
       "    }\n",
       "</style>\n",
       "<table border=\"1\" class=\"dataframe\">\n",
       "  <thead>\n",
       "    <tr style=\"text-align: right;\">\n",
       "      <th></th>\n",
       "      <th>ImageId</th>\n",
       "      <th>Label</th>\n",
       "    </tr>\n",
       "  </thead>\n",
       "  <tbody>\n",
       "    <tr>\n",
       "      <th>0</th>\n",
       "      <td>1</td>\n",
       "      <td>2</td>\n",
       "    </tr>\n",
       "    <tr>\n",
       "      <th>1</th>\n",
       "      <td>2</td>\n",
       "      <td>0</td>\n",
       "    </tr>\n",
       "    <tr>\n",
       "      <th>2</th>\n",
       "      <td>3</td>\n",
       "      <td>9</td>\n",
       "    </tr>\n",
       "    <tr>\n",
       "      <th>3</th>\n",
       "      <td>4</td>\n",
       "      <td>9</td>\n",
       "    </tr>\n",
       "    <tr>\n",
       "      <th>4</th>\n",
       "      <td>5</td>\n",
       "      <td>3</td>\n",
       "    </tr>\n",
       "  </tbody>\n",
       "</table>\n",
       "</div>"
      ],
      "text/plain": [
       "   ImageId  Label\n",
       "0        1      2\n",
       "1        2      0\n",
       "2        3      9\n",
       "3        4      9\n",
       "4        5      3"
      ]
     },
     "execution_count": 17,
     "metadata": {},
     "output_type": "execute_result"
    }
   ],
   "source": [
    "sub.to_csv(\"submission.csv\", index=False)\n",
    "sub.head()"
   ]
  }
 ],
 "metadata": {
  "kernelspec": {
   "display_name": "Python 3",
   "language": "python",
   "name": "python3"
  },
  "language_info": {
   "codemirror_mode": {
    "name": "ipython",
    "version": 3
   },
   "file_extension": ".py",
   "mimetype": "text/x-python",
   "name": "python",
   "nbconvert_exporter": "python",
   "pygments_lexer": "ipython3",
   "version": "3.10.12"
  },
  "papermill": {
   "default_parameters": {},
   "duration": 90.96293,
   "end_time": "2023-08-11T12:57:24.912033",
   "environment_variables": {},
   "exception": null,
   "input_path": "__notebook__.ipynb",
   "output_path": "__notebook__.ipynb",
   "parameters": {},
   "start_time": "2023-08-11T12:55:53.949103",
   "version": "2.4.0"
  }
 },
 "nbformat": 4,
 "nbformat_minor": 5
}
